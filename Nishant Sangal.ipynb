{
 "cells": [
  {
   "cell_type": "markdown",
   "id": "400c5057-d470-47c9-b365-2d7560c764e5",
   "metadata": {},
   "source": [
    "# My Jupyter Notebook on IBM Watson Studio"
   ]
  },
  {
   "cell_type": "markdown",
   "id": "d656aac6-ba09-4dca-a433-39789fd04cb3",
   "metadata": {},
   "source": [
    "**Nishant Sangal**\n",
    "\n",
    "Analyst"
   ]
  },
  {
   "cell_type": "markdown",
   "id": "92b305f2-745a-4bd1-ac11-754430e33a2d",
   "metadata": {},
   "source": [
    "*I worked as a Fraud Analyst, exploring Data Science to enhance my analytical skills.*"
   ]
  },
  {
   "cell_type": "markdown",
   "id": "14adf81c-db02-4a6b-8c95-d9eb585890f8",
   "metadata": {},
   "source": [
    "### The Following code calculate the sum of two numbers"
   ]
  },
  {
   "cell_type": "code",
   "execution_count": 4,
   "id": "aa2358e1-b687-4392-a561-ce955292beb1",
   "metadata": {},
   "outputs": [
    {
     "data": {
      "text/plain": [
       "2"
      ]
     },
     "execution_count": 4,
     "metadata": {},
     "output_type": "execute_result"
    }
   ],
   "source": [
    "def sum(a,b):\n",
    "    return a+b\n",
    "\n",
    "sum(1,1)"
   ]
  },
  {
   "cell_type": "markdown",
   "id": "161a8967-56ac-4772-8d65-0b8fe739afcf",
   "metadata": {},
   "source": [
    "* **Above Function will give sum of the parameters provided**\n",
    "***\n",
    "* **`Name of function is SUM`**\n",
    "***\n",
    "* **<a href=\"www.google.com\">You can search Syntax here</a>**\n",
    "***"
   ]
  }
 ],
 "metadata": {
  "kernelspec": {
   "display_name": "Python",
   "language": "python",
   "name": "conda-env-python-py"
  },
  "language_info": {
   "codemirror_mode": {
    "name": "ipython",
    "version": 3
   },
   "file_extension": ".py",
   "mimetype": "text/x-python",
   "name": "python",
   "nbconvert_exporter": "python",
   "pygments_lexer": "ipython3",
   "version": "3.7.12"
  }
 },
 "nbformat": 4,
 "nbformat_minor": 5
}
